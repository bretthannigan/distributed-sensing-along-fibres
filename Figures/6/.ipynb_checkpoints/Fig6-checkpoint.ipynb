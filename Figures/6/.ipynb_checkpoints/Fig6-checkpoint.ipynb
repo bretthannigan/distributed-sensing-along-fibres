{
 "cells": [
  {
   "cell_type": "markdown",
   "id": "6e1b85e5-4e71-4bb6-a771-5889b0f5e258",
   "metadata": {},
   "source": [
    "# Figure 6\n",
    "\n",
    "Script to generate Figure 6 from [1]. This figure shows the regression results for the Localized Strain Reconstruction machine learning model, found here: `../../ML/StrainReconstruction/`.\n",
    "\n",
    "> [1] Brett C. Hannigan, Tyler J. Cuthbert, Chakaveh Ahmadizadeh, and Carlo Menon. Distributed Sensing Along Fibres for Smart Clothing. *Science Advances*. 2023 (In Review).\n",
    "\n",
    "©2023 ETH Zurich, Brett Hannigan; D-HEST; Biomedical and Mobile Health Technology (BMHT) Lab; Carlo Menon"
   ]
  },
  {
   "cell_type": "code",
   "execution_count": 2,
   "id": "3fedc5f3-829c-458e-a989-95b8f3fc800a",
   "metadata": {},
   "outputs": [],
   "source": [
    "library(ggplot2)\n",
    "library(cowplot)\n",
    "library(tidyverse)\n",
    "library(ggh4x)"
   ]
  },
  {
   "cell_type": "code",
   "execution_count": null,
   "id": "b42788b4-da2d-4ada-a70e-fa7cfaca43a0",
   "metadata": {},
   "outputs": [],
   "source": [
    "df <- read.csv('../../ML20230127T161506_StrainPrediction.csv')\n",
    "df$is_multi <- as.logical(df$is_multi)\n",
    "df$is_train <- as.logical(df$is_train)\n",
    "df$is_val <- as.logical(df$is_val)\n",
    "df$is_test <- as.logical(df$is_test)\n",
    "df <- subset(df, is_test)\n",
    "df['total_time'] = (df$X - df$X[1])*1/100\n",
    "colnames(df)[colnames(df)=='sensor'] <- 'strained_sensor' \n",
    "head(df)"
   ]
  }
 ],
 "metadata": {
  "kernelspec": {
   "display_name": "R",
   "language": "R",
   "name": "ir"
  },
  "language_info": {
   "codemirror_mode": "r",
   "file_extension": ".r",
   "mimetype": "text/x-r-source",
   "name": "R",
   "pygments_lexer": "r",
   "version": "4.3.1"
  }
 },
 "nbformat": 4,
 "nbformat_minor": 5
}
